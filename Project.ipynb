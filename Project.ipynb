{
 "cells": [
  {
   "cell_type": "markdown",
   "metadata": {},
   "source": [
    "![ine-divider](https://user-images.githubusercontent.com/7065401/92672068-398e8080-f2ee-11ea-82d6-ad53f7feb5c0.png)\n",
    "<hr>\n",
    "\n",
    "### Software Development with Python\n",
    "# Using timeit to guide code speedups\n",
    "\n",
    "This project lets you speed up code by using accurate timing of existing code, and comparing times as you make changes.\n",
    "\n",
    "In this project, you will be work with a version of the Fractal software library this course uses throughout to demonstrate various Python software development tools.  This same library is used for other purposes in other INE courses.  The version of the library you will need for these exercises is at:\n",
    "\n",
    "> https://github.com/ine-rmotr-projects/INE-Fractal/tree/softwaredev\n",
    "\n",
    "Other branches of that repository will contain somewhat different versions of the library, and many projects in this course will not make sense in relation to them.\n",
    "\n",
    "![orange-divider](https://user-images.githubusercontent.com/7065401/92672455-187a5f80-f2ef-11ea-890c-40be9474f7b7.png)"
   ]
  },
  {
   "cell_type": "markdown",
   "metadata": {},
   "source": [
    "## Project\n",
    "\n",
    "**Speed up `make_canvas(fractal.mandelbrot())`**\n",
    "\n",
    "In this course, the videos made passing reference to the fact that the library Numba can often speedup numeric computation.  You are very unlikely to do better than Numba does for this problem.  However, your task is to utilize **different** refactoring techniques to make the rendering a Mandelbrot fractal faster, but still product the same results.  You may define for yourself what \"the same\" means.  That is, since the Mandelbrot set is actually the limit of infinitely many iterations, it is *possible* that a pixel or two may wind up with a different value in your alternate approach to finite iteration.  But most should be the same.\n",
    "\n",
    "For this task, use the `timeit` module iteratively to see if your refactoring is successful in speeding up the needed computation."
   ]
  },
  {
   "cell_type": "code",
   "execution_count": 1,
   "metadata": {},
   "outputs": [],
   "source": [
    "import sys\n",
    "# Substitute appropriate path for your repo clone\n",
    "sys.path.append('/home/dmertz/git/INE-Fractal')"
   ]
  },
  {
   "cell_type": "code",
   "execution_count": 2,
   "metadata": {},
   "outputs": [],
   "source": [
    "from fractal.mandelbrot import mandelbrot, fast_mandelbrot\n",
    "from fractal.visualize import make_canvas, visualize"
   ]
  },
  {
   "cell_type": "markdown",
   "metadata": {},
   "source": [
    "As an example of different speeds:"
   ]
  },
  {
   "cell_type": "code",
   "execution_count": 3,
   "metadata": {},
   "outputs": [
    {
     "name": "stdout",
     "output_type": "stream",
     "text": [
      "8.43 s ± 135 ms per loop (mean ± std. dev. of 7 runs, 1 loop each)\n",
      "1.12 s ± 41.2 ms per loop (mean ± std. dev. of 7 runs, 1 loop each)\n"
     ]
    }
   ],
   "source": [
    "%timeit make_canvas(mandelbrot, -0.5, 0, 2, pixels=800)\n",
    "%timeit make_canvas(fast_mandelbrot, -0.5, 0, 2, pixels=800)"
   ]
  },
  {
   "cell_type": "markdown",
   "metadata": {},
   "source": [
    "A reasonable test of \"same result\" might be similar to this:"
   ]
  },
  {
   "cell_type": "code",
   "execution_count": 4,
   "metadata": {},
   "outputs": [
    {
     "data": {
      "text/plain": [
       "True"
      ]
     },
     "execution_count": 4,
     "metadata": {},
     "output_type": "execute_result"
    }
   ],
   "source": [
    "m1 = make_canvas(mandelbrot, -0.5, 0, 2, pixels=100)\n",
    "m2 = make_canvas(fast_mandelbrot, -0.5, 0, 2, pixels=100)\n",
    "\n",
    "same_pixels = (m1 == m2).sum() / m1.size\n",
    "same_pixels > 0.999"
   ]
  },
  {
   "cell_type": "markdown",
   "metadata": {},
   "source": [
    "![orange-divider](https://user-images.githubusercontent.com/7065401/92672455-187a5f80-f2ef-11ea-890c-40be9474f7b7.png)"
   ]
  }
 ],
 "metadata": {
  "kernelspec": {
   "display_name": "Python 3",
   "language": "python",
   "name": "python3"
  },
  "language_info": {
   "codemirror_mode": {
    "name": "ipython",
    "version": 3
   },
   "file_extension": ".py",
   "mimetype": "text/x-python",
   "name": "python",
   "nbconvert_exporter": "python",
   "pygments_lexer": "ipython3",
   "version": "3.8.2"
  }
 },
 "nbformat": 4,
 "nbformat_minor": 4
}
